{
 "cells": [
  {
   "cell_type": "code",
   "execution_count": 3,
   "id": "3717703e-aaf0-4071-8afa-0551870f961e",
   "metadata": {},
   "outputs": [],
   "source": [
    "a=10\n",
    "b=20"
   ]
  },
  {
   "cell_type": "code",
   "execution_count": 6,
   "id": "7ec28247-8003-4581-8e9a-3bfcc55e5777",
   "metadata": {},
   "outputs": [
    {
     "data": {
      "text/plain": [
       "True"
      ]
     },
     "execution_count": 6,
     "metadata": {},
     "output_type": "execute_result"
    }
   ],
   "source": [
    "(a>6) and (b>7)\n",
    "\n"
   ]
  },
  {
   "cell_type": "code",
   "execution_count": 10,
   "id": "834dd936-04af-417d-aaa4-6ce2768df700",
   "metadata": {},
   "outputs": [
    {
     "data": {
      "text/plain": [
       "True"
      ]
     },
     "execution_count": 10,
     "metadata": {},
     "output_type": "execute_result"
    }
   ],
   "source": [
    "((a>6) or (b>7))\n",
    "\n"
   ]
  },
  {
   "cell_type": "code",
   "execution_count": 12,
   "id": "b764db89-d0da-4221-91e7-bee3b4f59b08",
   "metadata": {},
   "outputs": [
    {
     "data": {
      "text/plain": [
       "True"
      ]
     },
     "execution_count": 12,
     "metadata": {},
     "output_type": "execute_result"
    }
   ],
   "source": [
    "((a>10) or(b>7))"
   ]
  },
  {
   "cell_type": "code",
   "execution_count": 8,
   "id": "d00c4f2e-7052-4837-89f4-200d794ec917",
   "metadata": {},
   "outputs": [
    {
     "name": "stdout",
     "output_type": "stream",
     "text": [
      "False\n"
     ]
    }
   ],
   "source": [
    "print(True and False)\n",
    "    \n"
   ]
  },
  {
   "cell_type": "code",
   "execution_count": 9,
   "id": "e6cd16f6-6ea4-486f-94f2-77eaf66e1c0b",
   "metadata": {},
   "outputs": [
    {
     "name": "stdout",
     "output_type": "stream",
     "text": [
      "False\n"
     ]
    }
   ],
   "source": [
    "print(False and False)"
   ]
  },
  {
   "cell_type": "code",
   "execution_count": null,
   "id": "97cf16f7-be36-457f-94d2-9d81772d31d2",
   "metadata": {},
   "outputs": [],
   "source": [
    "111\n",
    "100\n",
    "010\n",
    "000\n",
    "\n",
    "#and\n"
   ]
  },
  {
   "cell_type": "code",
   "execution_count": null,
   "id": "34a0ef98-9ae6-4ee7-948d-925fba322ee7",
   "metadata": {},
   "outputs": [],
   "source": [
    "111\n",
    "101\n",
    "011\n",
    "000\n",
    "\n",
    "#or\n"
   ]
  },
  {
   "cell_type": "code",
   "execution_count": 13,
   "id": "244c9805-8071-4eda-9fa8-946207a66e52",
   "metadata": {},
   "outputs": [],
   "source": [
    "a = True"
   ]
  },
  {
   "cell_type": "code",
   "execution_count": 14,
   "id": "059e3a55-2b7f-48ef-a2d4-e26ffabfacef",
   "metadata": {},
   "outputs": [
    {
     "data": {
      "text/plain": [
       "False"
      ]
     },
     "execution_count": 14,
     "metadata": {},
     "output_type": "execute_result"
    }
   ],
   "source": [
    "not(a)"
   ]
  },
  {
   "cell_type": "code",
   "execution_count": 15,
   "id": "ee015274-b2b2-4cb1-a120-47b9503e3d2f",
   "metadata": {},
   "outputs": [],
   "source": [
    "a = False"
   ]
  },
  {
   "cell_type": "code",
   "execution_count": 16,
   "id": "defeb0ee-35a6-4c07-ba01-821439c405f2",
   "metadata": {},
   "outputs": [
    {
     "data": {
      "text/plain": [
       "True"
      ]
     },
     "execution_count": 16,
     "metadata": {},
     "output_type": "execute_result"
    }
   ],
   "source": [
    "not(a)"
   ]
  },
  {
   "cell_type": "code",
   "execution_count": null,
   "id": "3eb15757-3987-41de-a765-5aeb34b3984c",
   "metadata": {},
   "outputs": [],
   "source": [
    "$----and\n",
    "|---or\n",
    "^---xor\n",
    "~---negation\n",
    "\n",
    "<< ---left shit\n",
    "\n",
    ">>---right shit"
   ]
  },
  {
   "cell_type": "code",
   "execution_count": 17,
   "id": "1577e699-ddf9-466a-aaf1-460dbd856074",
   "metadata": {},
   "outputs": [],
   "source": [
    "a = 10\n",
    "b = 4"
   ]
  },
  {
   "cell_type": "code",
   "execution_count": 18,
   "id": "6b354903-05c3-4557-8f52-038b6a6d7312",
   "metadata": {},
   "outputs": [
    {
     "data": {
      "text/plain": [
       "'0b1010'"
      ]
     },
     "execution_count": 18,
     "metadata": {},
     "output_type": "execute_result"
    }
   ],
   "source": [
    "bin(a)\n",
    "#1010"
   ]
  },
  {
   "cell_type": "code",
   "execution_count": 19,
   "id": "ceaaad03-01ee-44bc-8864-d6cfd7315622",
   "metadata": {},
   "outputs": [
    {
     "data": {
      "text/plain": [
       "'0b100'"
      ]
     },
     "execution_count": 19,
     "metadata": {},
     "output_type": "execute_result"
    }
   ],
   "source": [
    "bin(b)"
   ]
  },
  {
   "cell_type": "code",
   "execution_count": null,
   "id": "3a5a9ab1-8169-4be9-bac9-622417ed8d57",
   "metadata": {},
   "outputs": [],
   "source": [
    "8421\n",
    "0100"
   ]
  },
  {
   "cell_type": "code",
   "execution_count": 21,
   "id": "e740b404-5753-4dac-8231-4baece3aee20",
   "metadata": {},
   "outputs": [
    {
     "data": {
      "text/plain": [
       "0"
      ]
     },
     "execution_count": 21,
     "metadata": {},
     "output_type": "execute_result"
    }
   ],
   "source": [
    "a&b"
   ]
  },
  {
   "cell_type": "code",
   "execution_count": 22,
   "id": "990d80b3-6931-4184-916f-c4bf450f05a5",
   "metadata": {},
   "outputs": [
    {
     "data": {
      "text/plain": [
       "14"
      ]
     },
     "execution_count": 22,
     "metadata": {},
     "output_type": "execute_result"
    }
   ],
   "source": [
    "a|b"
   ]
  },
  {
   "cell_type": "code",
   "execution_count": null,
   "id": "f9372f3a-60b6-41f1-97ba-925c1a485554",
   "metadata": {},
   "outputs": [],
   "source": [
    "110\n",
    "101\n",
    "011\n",
    "000\n",
    "\n",
    "# xor"
   ]
  },
  {
   "cell_type": "code",
   "execution_count": 23,
   "id": "13e351ba-a252-4f34-8eb3-ee41f5cc97ec",
   "metadata": {},
   "outputs": [],
   "source": [
    "a=10"
   ]
  },
  {
   "cell_type": "code",
   "execution_count": 24,
   "id": "9697cb54-ad85-4eda-9ef3-6b49b0c6a517",
   "metadata": {},
   "outputs": [
    {
     "data": {
      "text/plain": [
       "-11"
      ]
     },
     "execution_count": 24,
     "metadata": {},
     "output_type": "execute_result"
    }
   ],
   "source": [
    "~a"
   ]
  },
  {
   "cell_type": "code",
   "execution_count": 25,
   "id": "ac8d070d-5f5f-4752-a4c1-49e1e76d0780",
   "metadata": {},
   "outputs": [],
   "source": [
    "a=8"
   ]
  },
  {
   "cell_type": "code",
   "execution_count": 26,
   "id": "f0410536-4cef-41cf-a381-7b9b5835825f",
   "metadata": {},
   "outputs": [
    {
     "data": {
      "text/plain": [
       "-9"
      ]
     },
     "execution_count": 26,
     "metadata": {},
     "output_type": "execute_result"
    }
   ],
   "source": [
    "~a"
   ]
  },
  {
   "cell_type": "code",
   "execution_count": 27,
   "id": "a931222e-8d57-46a2-902a-6b5e1a3784de",
   "metadata": {},
   "outputs": [],
   "source": [
    "a=-12"
   ]
  },
  {
   "cell_type": "code",
   "execution_count": 28,
   "id": "4e04ad9f-2c55-492c-bffd-d46388a87362",
   "metadata": {},
   "outputs": [
    {
     "data": {
      "text/plain": [
       "11"
      ]
     },
     "execution_count": 28,
     "metadata": {},
     "output_type": "execute_result"
    }
   ],
   "source": [
    "~a"
   ]
  },
  {
   "cell_type": "code",
   "execution_count": null,
   "id": "9ce4eee9-306d-4f45-b886-1aa1279bed38",
   "metadata": {},
   "outputs": [],
   "source": [
    "X=[1,2,3,4,5]"
   ]
  },
  {
   "cell_type": "code",
   "execution_count": 36,
   "id": "834d6286-cf1b-4443-be90-82395011811a",
   "metadata": {},
   "outputs": [],
   "source": [
    "a=10"
   ]
  },
  {
   "cell_type": "code",
   "execution_count": 37,
   "id": "50300f0d-65b5-4bf9-a922-973f6cffa8f0",
   "metadata": {},
   "outputs": [
    {
     "data": {
      "text/plain": [
       "20"
      ]
     },
     "execution_count": 37,
     "metadata": {},
     "output_type": "execute_result"
    }
   ],
   "source": [
    "a <<1"
   ]
  },
  {
   "cell_type": "code",
   "execution_count": 38,
   "id": "131b6a45-b834-4997-9727-22d98ef623b7",
   "metadata": {},
   "outputs": [
    {
     "data": {
      "text/plain": [
       "80"
      ]
     },
     "execution_count": 38,
     "metadata": {},
     "output_type": "execute_result"
    }
   ],
   "source": [
    "a<<3"
   ]
  },
  {
   "cell_type": "code",
   "execution_count": 39,
   "id": "ffa13fcb-d801-48f5-bd1b-c438c08111f0",
   "metadata": {},
   "outputs": [
    {
     "data": {
      "text/plain": [
       "5"
      ]
     },
     "execution_count": 39,
     "metadata": {},
     "output_type": "execute_result"
    }
   ],
   "source": [
    "a>>1"
   ]
  },
  {
   "cell_type": "code",
   "execution_count": null,
   "id": "20bdd101-f135-407a-a911-872d6d5d0065",
   "metadata": {},
   "outputs": [],
   "source": [
    "if\n",
    "if else\n",
    "if elif else"
   ]
  },
  {
   "cell_type": "code",
   "execution_count": 41,
   "id": "847e3df8-5d38-43ad-925f-24e57d047ed7",
   "metadata": {},
   "outputs": [],
   "source": [
    "age =16"
   ]
  },
  {
   "cell_type": "code",
   "execution_count": null,
   "id": "80c5ed6f-aacc-41b3-91c7-071d0268f793",
   "metadata": {},
   "outputs": [],
   "source": [
    "if age>=18:\n",
    "    print(\"you can drive\")\n",
    "else:\n",
    "    print(\"you cannot drive\")"
   ]
  },
  {
   "cell_type": "code",
   "execution_count": 12,
   "id": "eae8f6fe-57cc-4026-8ce3-6d1bcd145ee2",
   "metadata": {},
   "outputs": [],
   "source": [
    "x=2\n",
    "if x>=23:\n",
    "    print(\"your are inside the if block\")"
   ]
  },
  {
   "cell_type": "code",
   "execution_count": 21,
   "id": "305a41d1-828d-4cd1-bef4-1d2268da181d",
   "metadata": {},
   "outputs": [
    {
     "name": "stdin",
     "output_type": "stream",
     "text": [
      "please enter the time 20\n"
     ]
    },
    {
     "name": "stdout",
     "output_type": "stream",
     "text": [
      "Evening\n"
     ]
    }
   ],
   "source": [
    "\n",
    "time = int(input(\"please enter the time\"))\n",
    "\n",
    "if time <0:\n",
    "    print(\"invalid\")\n",
    "elif 0 <=time <= 5:\n",
    "    print(\"Night\")\n",
    "elif 6<= time <= 11:\n",
    "    print(\"morning\")\n",
    "elif 12 <= time <= 17:\n",
    "    print(\"Afternoon\")\n",
    "elif 18 <= time <= 23:\n",
    "    print(\"Evening\")\n",
    "else:\n",
    "    print(\"Invalid\")"
   ]
  },
  {
   "cell_type": "code",
   "execution_count": 22,
   "id": "41c873b4-6ec4-41a4-8b4a-8fb5f5f5eca6",
   "metadata": {},
   "outputs": [],
   "source": [
    "\n",
    "# find largest number from 3 given number"
   ]
  },
  {
   "cell_type": "code",
   "execution_count": 24,
   "id": "9a0f5ba7-b146-42ae-b394-88f738cbfabe",
   "metadata": {},
   "outputs": [
    {
     "name": "stdout",
     "output_type": "stream",
     "text": [
      "largest number is 30\n"
     ]
    }
   ],
   "source": [
    "num1=10\n",
    "num2=20\n",
    "num3=30\n",
    "\n",
    "\n",
    "if(num1>=num2) and (num1>=num3):\n",
    "    largest=num1\n",
    "    print(\"largest number is \" ,largest)\n",
    "elif(num2>=num1) and (num2>=num3):\n",
    "    largest=num2\n",
    "    print(\"largest number is\" ,largest)\n",
    "else:\n",
    "    largest=num3\n",
    "    print(\"largest number is\" ,largest)"
   ]
  },
  {
   "cell_type": "code",
   "execution_count": 36,
   "id": "8e5ba16b-85ae-484e-b8f3-376d2cde3d90",
   "metadata": {},
   "outputs": [
    {
     "name": "stdout",
     "output_type": "stream",
     "text": [
      "number is negative\n"
     ]
    }
   ],
   "source": [
    "num=-1\n",
    "\n",
    "if(num >=0):\n",
    "    if num ==0:\n",
    "        print(\"number is 0\")\n",
    "    else: \n",
    "        print(\"number is positive\")\n",
    "else:    \n",
    "        print(\"number is negative\")\n",
    "            "
   ]
  },
  {
   "cell_type": "code",
   "execution_count": 37,
   "id": "850e44e3-9da3-40b7-acc9-23b7fe119df4",
   "metadata": {},
   "outputs": [
    {
     "data": {
      "text/plain": [
       "range(0, 5)"
      ]
     },
     "execution_count": 37,
     "metadata": {},
     "output_type": "execute_result"
    }
   ],
   "source": [
    "range(5)"
   ]
  },
  {
   "cell_type": "code",
   "execution_count": null,
   "id": "d8f19cbf-59e3-40f3-95a3-987c40ecd351",
   "metadata": {},
   "outputs": [],
   "source": [
    "range(start,stop,step)"
   ]
  },
  {
   "cell_type": "code",
   "execution_count": 38,
   "id": "75338ef8-0083-4e54-83b2-45f580fa73ac",
   "metadata": {},
   "outputs": [
    {
     "data": {
      "text/plain": [
       "[0, 1, 2, 3, 4]"
      ]
     },
     "execution_count": 38,
     "metadata": {},
     "output_type": "execute_result"
    }
   ],
   "source": [
    "list(range(5))"
   ]
  },
  {
   "cell_type": "code",
   "execution_count": 39,
   "id": "3299d8d5-76b0-448e-897f-9f0c43c9b67b",
   "metadata": {},
   "outputs": [
    {
     "data": {
      "text/plain": [
       "[0, 1, 2, 3, 4, 5, 6, 7, 8, 9]"
      ]
     },
     "execution_count": 39,
     "metadata": {},
     "output_type": "execute_result"
    }
   ],
   "source": [
    "list(range(10))"
   ]
  },
  {
   "cell_type": "code",
   "execution_count": 40,
   "id": "58162ecd-ac59-42fa-8110-ffe5b05f0cb4",
   "metadata": {},
   "outputs": [
    {
     "data": {
      "text/plain": [
       "[2, 3, 4, 5, 6, 7, 8, 9]"
      ]
     },
     "execution_count": 40,
     "metadata": {},
     "output_type": "execute_result"
    }
   ],
   "source": [
    "list(range(2,10))"
   ]
  },
  {
   "cell_type": "code",
   "execution_count": 41,
   "id": "8ce8577c-2019-4db9-ae4e-a655c734ad1b",
   "metadata": {},
   "outputs": [
    {
     "data": {
      "text/plain": [
       "[45,\n",
       " 46,\n",
       " 47,\n",
       " 48,\n",
       " 49,\n",
       " 50,\n",
       " 51,\n",
       " 52,\n",
       " 53,\n",
       " 54,\n",
       " 55,\n",
       " 56,\n",
       " 57,\n",
       " 58,\n",
       " 59,\n",
       " 60,\n",
       " 61,\n",
       " 62,\n",
       " 63,\n",
       " 64,\n",
       " 65,\n",
       " 66,\n",
       " 67,\n",
       " 68,\n",
       " 69,\n",
       " 70,\n",
       " 71,\n",
       " 72,\n",
       " 73,\n",
       " 74,\n",
       " 75,\n",
       " 76,\n",
       " 77]"
      ]
     },
     "execution_count": 41,
     "metadata": {},
     "output_type": "execute_result"
    }
   ],
   "source": [
    "list(range(45,78))"
   ]
  },
  {
   "cell_type": "code",
   "execution_count": 42,
   "id": "54631f33-3991-4bfe-8079-4e97d2b7fb09",
   "metadata": {},
   "outputs": [
    {
     "data": {
      "text/plain": [
       "[2, 4, 6, 8, 10]"
      ]
     },
     "execution_count": 42,
     "metadata": {},
     "output_type": "execute_result"
    }
   ],
   "source": [
    "list(range(2,12,2))"
   ]
  },
  {
   "cell_type": "code",
   "execution_count": 43,
   "id": "51ad1460-2cd4-4fdf-8c24-70e9fe2ad03f",
   "metadata": {},
   "outputs": [
    {
     "name": "stdout",
     "output_type": "stream",
     "text": [
      "0\n",
      "1\n",
      "2\n",
      "3\n",
      "4\n"
     ]
    }
   ],
   "source": [
    "for i in range(5):\n",
    "    print(i)"
   ]
  },
  {
   "cell_type": "code",
   "execution_count": 44,
   "id": "a13dd644-cf3e-44f1-863b-08a649b3e1b2",
   "metadata": {},
   "outputs": [
    {
     "name": "stdout",
     "output_type": "stream",
     "text": [
      "0\n",
      "1\n",
      "2\n"
     ]
    }
   ],
   "source": [
    "for i in range(3):\n",
    "    print(i)\n",
    "    "
   ]
  },
  {
   "cell_type": "code",
   "execution_count": 50,
   "id": "79d8ca15-8192-405b-ad46-fe703d3b07b3",
   "metadata": {},
   "outputs": [
    {
     "name": "stdout",
     "output_type": "stream",
     "text": [
      "p\n",
      "w\n",
      "s\n",
      "k\n",
      "i\n",
      "l\n",
      "l\n",
      "s\n"
     ]
    }
   ],
   "source": [
    "for i in \"pwskills\":\n",
    "    print(i)"
   ]
  },
  {
   "cell_type": "code",
   "execution_count": 51,
   "id": "6b044732-6642-456a-85d5-b6c27e2c22cd",
   "metadata": {},
   "outputs": [],
   "source": [
    "x={\"name\":\"poonam\",\"city\":\"bangalore\"}"
   ]
  },
  {
   "cell_type": "code",
   "execution_count": 52,
   "id": "c17ccc4c-d8bd-4b62-ac1f-789c620f7de0",
   "metadata": {},
   "outputs": [
    {
     "name": "stdout",
     "output_type": "stream",
     "text": [
      "poonam\n",
      "bangalore\n"
     ]
    }
   ],
   "source": [
    "for i in x.values():\n",
    "    print(i)"
   ]
  },
  {
   "cell_type": "code",
   "execution_count": 53,
   "id": "9769bb00-02c0-4f25-bd15-a6e9905e4b69",
   "metadata": {},
   "outputs": [
    {
     "data": {
      "text/plain": [
       "range(0, 5)"
      ]
     },
     "execution_count": 53,
     "metadata": {},
     "output_type": "execute_result"
    }
   ],
   "source": [
    "range(5)"
   ]
  },
  {
   "cell_type": "code",
   "execution_count": 54,
   "id": "7e10373f-e7bf-4206-a3ab-353b1d813c9f",
   "metadata": {},
   "outputs": [
    {
     "data": {
      "text/plain": [
       "[0, 1, 2, 3, 4]"
      ]
     },
     "execution_count": 54,
     "metadata": {},
     "output_type": "execute_result"
    }
   ],
   "source": [
    "list(range(5))"
   ]
  },
  {
   "cell_type": "code",
   "execution_count": 55,
   "id": "baeccc4f-c668-452e-b068-0f766a6796bc",
   "metadata": {},
   "outputs": [
    {
     "data": {
      "text/plain": [
       "range(2, 5)"
      ]
     },
     "execution_count": 55,
     "metadata": {},
     "output_type": "execute_result"
    }
   ],
   "source": [
    "range(2,5)"
   ]
  },
  {
   "cell_type": "code",
   "execution_count": 56,
   "id": "3a9f2ec7-c66b-4890-909f-b95e2d76fb6a",
   "metadata": {},
   "outputs": [
    {
     "data": {
      "text/plain": [
       "[2, 3, 4]"
      ]
     },
     "execution_count": 56,
     "metadata": {},
     "output_type": "execute_result"
    }
   ],
   "source": [
    "list(range(2,5))\n"
   ]
  },
  {
   "cell_type": "code",
   "execution_count": 59,
   "id": "0c721f67-5758-4a63-bb10-7b23d639631f",
   "metadata": {},
   "outputs": [
    {
     "name": "stdout",
     "output_type": "stream",
     "text": [
      "india\n",
      "uk\n",
      "germany\n"
     ]
    }
   ],
   "source": [
    "country=[\"india\",\"uk\",\"germany\"]\n",
    "\n",
    "for ct in country:\n",
    "    print(ct)"
   ]
  },
  {
   "cell_type": "code",
   "execution_count": 60,
   "id": "f87d6964-39f7-4593-9409-62387cc1f875",
   "metadata": {},
   "outputs": [
    {
     "name": "stdout",
     "output_type": "stream",
     "text": [
      "india\n",
      "uk\n",
      "germany\n"
     ]
    }
   ],
   "source": [
    "country=[\"india\", \"uk\",\"germany\"]\n",
    "\n",
    "for index in range(len(country)):\n",
    "    print(country[index])\n",
    "    "
   ]
  },
  {
   "cell_type": "code",
   "execution_count": 62,
   "id": "66048a7f-e1b7-4a5e-a00f-450e99c14b44",
   "metadata": {},
   "outputs": [],
   "source": [
    "dict1={\"x1\":1,\"x2\":2,\"x3\":3}"
   ]
  },
  {
   "cell_type": "code",
   "execution_count": 64,
   "id": "5720c8f9-dcf6-46c9-9f94-19e24e92d8b5",
   "metadata": {},
   "outputs": [
    {
     "data": {
      "text/plain": [
       "dict_keys(['x1', 'x2', 'x3'])"
      ]
     },
     "execution_count": 64,
     "metadata": {},
     "output_type": "execute_result"
    }
   ],
   "source": [
    "dict1.keys()"
   ]
  },
  {
   "cell_type": "code",
   "execution_count": 65,
   "id": "7ab0275f-9dbe-4834-8816-df43fdf59f4e",
   "metadata": {},
   "outputs": [
    {
     "data": {
      "text/plain": [
       "dict_values([1, 2, 3])"
      ]
     },
     "execution_count": 65,
     "metadata": {},
     "output_type": "execute_result"
    }
   ],
   "source": [
    "dict1.values()"
   ]
  },
  {
   "cell_type": "code",
   "execution_count": 66,
   "id": "45492484-50c6-45da-93b1-061b01313875",
   "metadata": {},
   "outputs": [
    {
     "name": "stdout",
     "output_type": "stream",
     "text": [
      "x1 1\n",
      "x2 2\n",
      "x3 3\n"
     ]
    }
   ],
   "source": [
    "for key in dict1:\n",
    "    print(key,dict1[key])"
   ]
  },
  {
   "cell_type": "code",
   "execution_count": 67,
   "id": "d74496ad-933e-47ae-938e-b6951f83353c",
   "metadata": {},
   "outputs": [
    {
     "data": {
      "text/plain": [
       "1"
      ]
     },
     "execution_count": 67,
     "metadata": {},
     "output_type": "execute_result"
    }
   ],
   "source": [
    "dict1['x1']"
   ]
  },
  {
   "cell_type": "code",
   "execution_count": 68,
   "id": "b8b15db6-2674-48bf-9c37-ab3b8c447ba8",
   "metadata": {},
   "outputs": [
    {
     "name": "stdout",
     "output_type": "stream",
     "text": [
      "0 1 2 3 4 5 6 7 8 9 "
     ]
    }
   ],
   "source": [
    "for i in range(10):\n",
    "    print(i,end=' ')"
   ]
  },
  {
   "cell_type": "code",
   "execution_count": 69,
   "id": "05744a36-a005-4d5a-b1c6-31f98736459d",
   "metadata": {},
   "outputs": [
    {
     "name": "stdout",
     "output_type": "stream",
     "text": [
      "0\n",
      "1\n",
      "2\n",
      "3\n",
      "4\n",
      "done\n"
     ]
    }
   ],
   "source": [
    "for i in range(5):\n",
    "    print(i)\n",
    "else:\n",
    "    print(\"done\")"
   ]
  },
  {
   "cell_type": "code",
   "execution_count": 85,
   "id": "b6e8a23c-da37-46c2-8188-88fbaea3e157",
   "metadata": {},
   "outputs": [
    {
     "name": "stdout",
     "output_type": "stream",
     "text": [
      "* \n",
      "* * \n",
      "* * * \n",
      "* * * * \n",
      "* * * * * \n"
     ]
    }
   ],
   "source": [
    "for i in range(5):\n",
    "    for j in range(i+1):\n",
    "        print(\"*\", end =' ')\n",
    "    print()\n",
    "        \n",
    "        \n",
    "        \n",
    "        "
   ]
  },
  {
   "cell_type": "code",
   "execution_count": 86,
   "id": "56fdffeb-71b1-4656-97db-86dec9f9d1ca",
   "metadata": {},
   "outputs": [
    {
     "name": "stdout",
     "output_type": "stream",
     "text": [
      "* * * * * \n",
      "* * * * \n",
      "* * * \n",
      "* * \n",
      "* \n"
     ]
    }
   ],
   "source": [
    "for i in range(5,0,-1):\n",
    "    for j in range(i,0,-1):\n",
    "        print(\"*\",end = \" \" )    \n",
    "    print()\n",
    "    "
   ]
  },
  {
   "cell_type": "code",
   "execution_count": 87,
   "id": "d534a1dd-244d-4354-9b76-a363532703a6",
   "metadata": {},
   "outputs": [
    {
     "name": "stdout",
     "output_type": "stream",
     "text": [
      "1 2 3 4 5 \n",
      "2 4 6 8 10 \n",
      "3 6 9 12 15 \n",
      "4 8 12 16 20 \n",
      "5 10 15 20 25 \n"
     ]
    }
   ],
   "source": [
    "for i in range(1,6):\n",
    "    for j in range(1,6):\n",
    "        print(i*j,end=' ')\n",
    "    print()   "
   ]
  },
  {
   "cell_type": "code",
   "execution_count": 88,
   "id": "c7927b79-114a-46ef-a4f8-7b60eeb601d5",
   "metadata": {},
   "outputs": [
    {
     "name": "stdout",
     "output_type": "stream",
     "text": [
      "1\n",
      "2\n",
      "3\n",
      "4\n",
      "5\n"
     ]
    }
   ],
   "source": [
    "count=1\n",
    "\n",
    "while count<=5:\n",
    "    print(count)\n",
    "    count +=1\n",
    "    #count=count+1"
   ]
  },
  {
   "cell_type": "code",
   "execution_count": 89,
   "id": "4cfeb833-622f-4ef1-b14b-2e303f006b6a",
   "metadata": {},
   "outputs": [
    {
     "name": "stdin",
     "output_type": "stream",
     "text": [
      "enter a word pw\n"
     ]
    },
    {
     "name": "stdout",
     "output_type": "stream",
     "text": [
      "you entered pw\n"
     ]
    },
    {
     "name": "stdin",
     "output_type": "stream",
     "text": [
      "enter a word skills\n"
     ]
    },
    {
     "name": "stdout",
     "output_type": "stream",
     "text": [
      "you entered skills\n"
     ]
    },
    {
     "name": "stdin",
     "output_type": "stream",
     "text": [
      "enter a word ineuron\n"
     ]
    },
    {
     "name": "stdout",
     "output_type": "stream",
     "text": [
      "you entered ineuron\n"
     ]
    },
    {
     "name": "stdin",
     "output_type": "stream",
     "text": [
      "enter a word poonam\n"
     ]
    },
    {
     "name": "stdout",
     "output_type": "stream",
     "text": [
      "you entered poonam\n"
     ]
    },
    {
     "name": "stdin",
     "output_type": "stream",
     "text": [
      "enter a word quit\n"
     ]
    },
    {
     "name": "stdout",
     "output_type": "stream",
     "text": [
      "you entered quit\n"
     ]
    }
   ],
   "source": [
    "text = \" \"\n",
    "\n",
    "while text !=\"quit\":\n",
    "    text= input(\"enter a word\")\n",
    "    print(\"you entered\",text)"
   ]
  },
  {
   "cell_type": "code",
   "execution_count": null,
   "id": "7a882f00-06f5-4ac8-9aef-c7a69f3edbd4",
   "metadata": {},
   "outputs": [],
   "source": [
    "if you know how times you will iterate go with for loop\n",
    "if you dont know how times you will iterate go with while loop"
   ]
  }
 ],
 "metadata": {
  "kernelspec": {
   "display_name": "Python 3 (ipykernel)",
   "language": "python",
   "name": "python3"
  },
  "language_info": {
   "codemirror_mode": {
    "name": "ipython",
    "version": 3
   },
   "file_extension": ".py",
   "mimetype": "text/x-python",
   "name": "python",
   "nbconvert_exporter": "python",
   "pygments_lexer": "ipython3",
   "version": "3.10.8"
  }
 },
 "nbformat": 4,
 "nbformat_minor": 5
}
